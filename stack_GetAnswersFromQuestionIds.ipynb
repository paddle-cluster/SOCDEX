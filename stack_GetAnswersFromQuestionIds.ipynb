{
 "cells": [
  {
   "cell_type": "markdown",
   "metadata": {},
   "source": [
    "This notebook takes a list of question ids from a Stack Exchange site like Stack Overflow and returns all the answers to those questions. It requires a Stack Exchange API key. One can be acquired at https://api.stackexchange.com"
   ]
  },
  {
   "cell_type": "code",
   "execution_count": null,
   "metadata": {},
   "outputs": [],
   "source": [
    "import requests\n",
    "import json\n",
    "import csv\n",
    "\n",
    "# Input API key and question ids\n",
    "#api_key = ‘REPLACE WITH STACK EXCHANGE API KEY’\n",
    "#stack_exchange_community = ‘REPLACE WITH STACK EXCHANGE COMMUNITY e.g. stackoverflow’\n",
    "#question_ids = ‘REPLACE WITH LIST OF COMMA-SEPARATED QUESTION IDS’\n",
    "\n",
    "\n",
    "def get_answers(question_ids, stack_exchange_community, api_key):\n",
    "    answers = {}\n",
    "    for question_id in question_ids:\n",
    "        url = f\"https://api.stackexchange.com/2.2/questions/{question_id}/answers?order=desc&sort=activity&site={stack_exchange_community}&filter=withbody&key={api_key}\"\n",
    "        response = requests.get(url)\n",
    "        data = json.loads(response.text)\n",
    "        if 'items' in data and len(data['items']) > 0:\n",
    "            answers[question_id] = []\n",
    "            for item in data['items']:\n",
    "                if 'body' in item:\n",
    "                    user = item['owner']['display_name'] if 'owner' in item else 'Unknown'\n",
    "                    score = item['score'] if 'score' in item else 0\n",
    "                    accepted = item['is_accepted'] if 'is_accepted' in item else False\n",
    "                    answer_text = item['body']\n",
    "                    answer = f\"User: {user}\\nScore: {score}\\nAccepted: {accepted}\\n\\n\\n{answer_text}\"\n",
    "                    answers[question_id].append(answer)\n",
    "        elif 'error_message' in data:\n",
    "            print(f\"Error: {data['error_message']}\")\n",
    "        else:\n",
    "            answers[question_id] = \"No answers found\"\n",
    "        print(response.text)\n",
    "    return answers\n",
    "\n",
    "answers = get_answers(question_ids, stack_exchange_community, api_key)\n",
    "\n",
    "if answers:\n",
    "    # create a csv file\n",
    "    with open('answers.csv', 'w', newline='') as csvfile:\n",
    "        writer = csv.writer(csvfile)\n",
    "        writer.writerow(['Question ID', 'Answer'])\n",
    "        for question_id in answers:\n",
    "            for answer in answers[question_id]:\n",
    "                writer.writerow([question_id, answer])\n",
    "    print(\"Answers saved to answers.csv\")\n",
    "else:\n",
    "    print(\"No answers found\")"
   ]
  }
 ],
 "metadata": {
  "kernelspec": {
   "display_name": "Python 3",
   "language": "python",
   "name": "python3"
  },
  "language_info": {
   "codemirror_mode": {
    "name": "ipython",
    "version": 3
   },
   "file_extension": ".py",
   "mimetype": "text/x-python",
   "name": "python",
   "nbconvert_exporter": "python",
   "pygments_lexer": "ipython3",
   "version": "3.9.13"
  },
  "orig_nbformat": 4
 },
 "nbformat": 4,
 "nbformat_minor": 2
}
